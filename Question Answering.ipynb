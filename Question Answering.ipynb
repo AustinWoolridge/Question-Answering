{
 "cells": [
  {
   "cell_type": "code",
   "execution_count": 20,
   "id": "bccb2c0d",
   "metadata": {},
   "outputs": [
    {
     "ename": "NameError",
     "evalue": "name 'ipython' is not defined",
     "output_type": "error",
     "traceback": [
      "\u001b[1;31m---------------------------------------------------------------------------\u001b[0m",
      "\u001b[1;31mNameError\u001b[0m                                 Traceback (most recent call last)",
      "Input \u001b[1;32mIn [20]\u001b[0m, in \u001b[0;36m<cell line: 1>\u001b[1;34m()\u001b[0m\n\u001b[1;32m----> 1\u001b[0m \u001b[43mipython\u001b[49m\n",
      "\u001b[1;31mNameError\u001b[0m: name 'ipython' is not defined"
     ]
    }
   ],
   "source": [
    "ipython"
   ]
  },
  {
   "cell_type": "code",
   "execution_count": 1,
   "id": "a333f734",
   "metadata": {},
   "outputs": [
    {
     "ename": "ModuleNotFoundError",
     "evalue": "No module named 'IPython.html'",
     "output_type": "error",
     "traceback": [
      "\u001b[1;31m---------------------------------------------------------------------------\u001b[0m",
      "\u001b[1;31mModuleNotFoundError\u001b[0m                       Traceback (most recent call last)",
      "Input \u001b[1;32mIn [1]\u001b[0m, in \u001b[0;36m<cell line: 9>\u001b[1;34m()\u001b[0m\n\u001b[0;32m      7\u001b[0m \u001b[38;5;28;01mfrom\u001b[39;00m \u001b[38;5;21;01msimpletransformers\u001b[39;00m\u001b[38;5;21;01m.\u001b[39;00m\u001b[38;5;21;01mquestion_answering\u001b[39;00m \u001b[38;5;28;01mimport\u001b[39;00m QuestionAnsweringModel\n\u001b[0;32m      8\u001b[0m \u001b[38;5;28;01mfrom\u001b[39;00m \u001b[38;5;21;01mIPython\u001b[39;00m\u001b[38;5;21;01m.\u001b[39;00m\u001b[38;5;21;01mdisplay\u001b[39;00m \u001b[38;5;28;01mimport\u001b[39;00m display\n\u001b[1;32m----> 9\u001b[0m \u001b[38;5;28;01mfrom\u001b[39;00m \u001b[38;5;21;01mIPython\u001b[39;00m\u001b[38;5;21;01m.\u001b[39;00m\u001b[38;5;21;01mhtml\u001b[39;00m \u001b[38;5;28;01mimport\u001b[39;00m widgets\n\u001b[0;32m     10\u001b[0m \u001b[38;5;28;01mfrom\u001b[39;00m \u001b[38;5;21;01mbs4\u001b[39;00m \u001b[38;5;28;01mimport\u001b[39;00m BeautifulSoup\n\u001b[0;32m     11\u001b[0m \u001b[38;5;28;01mfrom\u001b[39;00m \u001b[38;5;21;01mmarkdown\u001b[39;00m \u001b[38;5;28;01mimport\u001b[39;00m markdown\n",
      "\u001b[1;31mModuleNotFoundError\u001b[0m: No module named 'IPython.html'"
     ]
    }
   ],
   "source": [
    "import numpy as np\n",
    "import requests\n",
    "import html2text\n",
    "from googlesearch import search\n",
    "import json\n",
    "import re\n",
    "from simpletransformers.question_answering import QuestionAnsweringModel\n",
    "from IPython.display import display\n",
    "from IPython.html import widgets\n",
    "from bs4 import BeautifulSoup\n",
    "from markdown import markdown"
   ]
  },
  {
   "cell_type": "code",
   "execution_count": 11,
   "id": "7c19db88",
   "metadata": {},
   "outputs": [],
   "source": [
    "# Source: https://gist.github.com/lorey/eb15a7f3338f959a78cc3661fbc255fe\n",
    "def markdown_to_text(markdown_string):\n",
    "    \"\"\" Converts a markdown string to plaintext \"\"\"\n",
    "\n",
    "    # md -> html -> text since BeautifulSoup can extract text cleanly\n",
    "    html = markdown(markdown_string)\n",
    "\n",
    "    # remove code snippets\n",
    "    html = re.sub(r'<pre>(.*?)</pre>', ' ', html)\n",
    "    html = re.sub(r'<code>(.*?)</code >', ' ', html)\n",
    "\n",
    "    # extract text\n",
    "    soup = BeautifulSoup(html, \"html.parser\")\n",
    "    text = ''.join(soup.findAll(text=True))\n",
    "\n",
    "    return text\n",
    "\n",
    "def format_text(text):\n",
    "    text = markdown_to_text(text)\n",
    "    text = text.replace('\\n', ' ')\n",
    "#     text = re.sub(r'^https?:\\/\\/.*[\\r\\n]*', '', text, flags=re.MULTILINE)\n",
    "#     text = re.sub(r'^http?:\\/\\/.*[\\r\\n]*', '', text, flags=re.MULTILINE)\n",
    "    return text"
   ]
  },
  {
   "cell_type": "code",
   "execution_count": 12,
   "id": "355ce343",
   "metadata": {},
   "outputs": [],
   "source": [
    "def query_pages(query, n=5):\n",
    "    return list(search(query, num=n, stop=n, pause=2))\n",
    "\n",
    "def query_to_text(query, n=5):\n",
    "    html_conv = html2text.HTML2Text()\n",
    "    html_conv.ignore_links = True\n",
    "    html_conv.escape_all = True\n",
    "    \n",
    "    text = []\n",
    "    for link in query_pages(query, n):\n",
    "        req = requests.get(link)\n",
    "        text.append(html_conv.handle(req.text))\n",
    "        text[-1] = format_text(text[-1])\n",
    "        \n",
    "    return text"
   ]
  },
  {
   "cell_type": "code",
   "execution_count": 13,
   "id": "5f266965",
   "metadata": {},
   "outputs": [],
   "source": [
    "def create_model():\n",
    "     return QuestionAnsweringModel('distilbert', 'distilbert-base-uncased-distilled-squad')\n",
    "    \n",
    "def predict_answer(model, question, contexts, seq_len=512, debug=False):\n",
    "    split_context = []\n",
    "    \n",
    "    if not isinstance(contexts, list):\n",
    "        contexts = [contexts]\n",
    "    \n",
    "    for context in contexts:\n",
    "        for i in range(0, len(context), seq_len):\n",
    "            split_context.append(context[i:i+seq_len])\n",
    "            \n",
    "    split_context = contexts\n",
    "    \n",
    "    f_data = []\n",
    "    \n",
    "    for i, c in enumerate(split_context):\n",
    "        f_data.append(\n",
    "            {'qas': \n",
    "              [{'question': question,\n",
    "               'id': i,\n",
    "               'answers': [{'text': ' ', 'answer_start': 0}],\n",
    "               'is_impossible': False}],\n",
    "              'context': c\n",
    "            })\n",
    "        \n",
    "    prediction = model.predict(f_data)\n",
    "    if debug:\n",
    "        print(prediction)\n",
    "    preds = [x['answer'].lower().strip() for x in prediction if x['answer'].strip() != '']\n",
    "    \n",
    "    return max(set(preds), key = preds.count)"
   ]
  },
  {
   "cell_type": "code",
   "execution_count": 14,
   "id": "1c7e482b",
   "metadata": {},
   "outputs": [],
   "source": [
    "def q_to_a(model, question, n=2, debug=False):\n",
    "    context = query_to_text(question, n=n)\n",
    "    pred = predict_answer(model, question, context, debug=debug)\n",
    "    return pred"
   ]
  },
  {
   "cell_type": "code",
   "execution_count": 15,
   "id": "7eb31bc2",
   "metadata": {},
   "outputs": [
    {
     "ename": "ValueError",
     "evalue": "'use_cuda' set to True when cuda is unavailable. Make sure CUDA is available or set use_cuda=False.",
     "output_type": "error",
     "traceback": [
      "\u001b[1;31m---------------------------------------------------------------------------\u001b[0m",
      "\u001b[1;31mValueError\u001b[0m                                Traceback (most recent call last)",
      "Input \u001b[1;32mIn [15]\u001b[0m, in \u001b[0;36m<cell line: 1>\u001b[1;34m()\u001b[0m\n\u001b[1;32m----> 1\u001b[0m model \u001b[38;5;241m=\u001b[39m \u001b[43mcreate_model\u001b[49m\u001b[43m(\u001b[49m\u001b[43m)\u001b[49m\n",
      "Input \u001b[1;32mIn [13]\u001b[0m, in \u001b[0;36mcreate_model\u001b[1;34m()\u001b[0m\n\u001b[0;32m      1\u001b[0m \u001b[38;5;28;01mdef\u001b[39;00m \u001b[38;5;21mcreate_model\u001b[39m():\n\u001b[1;32m----> 2\u001b[0m      \u001b[38;5;28;01mreturn\u001b[39;00m \u001b[43mQuestionAnsweringModel\u001b[49m\u001b[43m(\u001b[49m\u001b[38;5;124;43m'\u001b[39;49m\u001b[38;5;124;43mdistilbert\u001b[39;49m\u001b[38;5;124;43m'\u001b[39;49m\u001b[43m,\u001b[49m\u001b[43m \u001b[49m\u001b[38;5;124;43m'\u001b[39;49m\u001b[38;5;124;43mdistilbert-base-uncased-distilled-squad\u001b[39;49m\u001b[38;5;124;43m'\u001b[39;49m\u001b[43m)\u001b[49m\n",
      "File \u001b[1;32mc:\\users\\batuh\\pycharmprojects\\pythonproject1\\venv\\lib\\site-packages\\simpletransformers\\question_answering\\question_answering_model.py:230\u001b[0m, in \u001b[0;36mQuestionAnsweringModel.__init__\u001b[1;34m(self, model_type, model_name, args, use_cuda, cuda_device, **kwargs)\u001b[0m\n\u001b[0;32m    228\u001b[0m             \u001b[38;5;28mself\u001b[39m\u001b[38;5;241m.\u001b[39mdevice \u001b[38;5;241m=\u001b[39m torch\u001b[38;5;241m.\u001b[39mdevice(\u001b[38;5;124mf\u001b[39m\u001b[38;5;124m\"\u001b[39m\u001b[38;5;124mcuda:\u001b[39m\u001b[38;5;132;01m{\u001b[39;00mcuda_device\u001b[38;5;132;01m}\u001b[39;00m\u001b[38;5;124m\"\u001b[39m)\n\u001b[0;32m    229\u001b[0m     \u001b[38;5;28;01melse\u001b[39;00m:\n\u001b[1;32m--> 230\u001b[0m         \u001b[38;5;28;01mraise\u001b[39;00m \u001b[38;5;167;01mValueError\u001b[39;00m(\n\u001b[0;32m    231\u001b[0m             \u001b[38;5;124m\"\u001b[39m\u001b[38;5;124m'\u001b[39m\u001b[38;5;124muse_cuda\u001b[39m\u001b[38;5;124m'\u001b[39m\u001b[38;5;124m set to True when cuda is unavailable.\u001b[39m\u001b[38;5;124m\"\u001b[39m\n\u001b[0;32m    232\u001b[0m             \u001b[38;5;124m\"\u001b[39m\u001b[38;5;124m Make sure CUDA is available or set use_cuda=False.\u001b[39m\u001b[38;5;124m\"\u001b[39m\n\u001b[0;32m    233\u001b[0m         )\n\u001b[0;32m    234\u001b[0m \u001b[38;5;28;01melse\u001b[39;00m:\n\u001b[0;32m    235\u001b[0m     \u001b[38;5;28mself\u001b[39m\u001b[38;5;241m.\u001b[39mdevice \u001b[38;5;241m=\u001b[39m \u001b[38;5;124m\"\u001b[39m\u001b[38;5;124mcpu\u001b[39m\u001b[38;5;124m\"\u001b[39m\n",
      "\u001b[1;31mValueError\u001b[0m: 'use_cuda' set to True when cuda is unavailable. Make sure CUDA is available or set use_cuda=False."
     ]
    }
   ],
   "source": [
    "model = create_model()"
   ]
  },
  {
   "cell_type": "code",
   "execution_count": null,
   "id": "cf76af8e",
   "metadata": {},
   "outputs": [],
   "source": []
  }
 ],
 "metadata": {
  "kernelspec": {
   "display_name": "Python 3 (ipykernel)",
   "language": "python",
   "name": "python3"
  },
  "language_info": {
   "codemirror_mode": {
    "name": "ipython",
    "version": 3
   },
   "file_extension": ".py",
   "mimetype": "text/x-python",
   "name": "python",
   "nbconvert_exporter": "python",
   "pygments_lexer": "ipython3",
   "version": "3.9.7"
  }
 },
 "nbformat": 4,
 "nbformat_minor": 5
}
